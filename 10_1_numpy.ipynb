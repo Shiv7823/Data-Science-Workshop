{
  "cells": [
    {
      "cell_type": "markdown",
      "metadata": {
        "id": "9eArSaoXU_F4"
      },
      "source": [
        "#### Numpy\n",
        "NumPy is a fundamental library for scientific computing in Python. It provides support for arrays and matrices, along with a collection of mathematical functions to operate on these data structures. In this lesson, we will cover the basics of NumPy, focusing on arrays and vectorized operations."
      ]
    },
    {
      "cell_type": "code",
      "execution_count": null,
      "metadata": {
        "id": "pxYcBHyrU_F8",
        "outputId": "fa60681f-8af1-46b8-983b-9eef30bd2157"
      },
      "outputs": [
        {
          "name": "stdout",
          "output_type": "stream",
          "text": [
            "Requirement already satisfied: numpy in e:\\udemy final\\python\\venv\\lib\\site-packages (1.26.4)\n"
          ]
        }
      ],
      "source": [
        "!pip install numpy"
      ]
    },
    {
      "cell_type": "code",
      "execution_count": null,
      "metadata": {
        "id": "wxDpmxYXU_GA",
        "outputId": "d5bb9366-c1f1-4e58-ced9-a991a7dda941"
      },
      "outputs": [
        {
          "name": "stdout",
          "output_type": "stream",
          "text": [
            "[1 2 3 4 5]\n",
            "<class 'numpy.ndarray'>\n",
            "(5,)\n"
          ]
        }
      ],
      "source": [
        "import numpy as np\n",
        "\n",
        "## create array using numpy\n",
        "##create a 1D array\n",
        "arr1=np.array([1,2,3,4,5])\n",
        "print(arr1)\n",
        "print(type(arr1))\n",
        "print(arr1.shape)"
      ]
    },
    {
      "cell_type": "code",
      "execution_count": null,
      "metadata": {
        "id": "k_JAjjEzU_GB",
        "outputId": "fcb78c4f-950f-4892-d9a7-265987363d2d"
      },
      "outputs": [
        {
          "data": {
            "text/plain": [
              "array([[1, 2, 3, 4, 5]])"
            ]
          },
          "execution_count": 9,
          "metadata": {},
          "output_type": "execute_result"
        }
      ],
      "source": [
        "## 1 d array\n",
        "arr2=np.array([1,2,3,4,5])\n",
        "arr2.reshape(1,5)  ##1 row and 5 columns"
      ]
    },
    {
      "cell_type": "code",
      "execution_count": null,
      "metadata": {
        "id": "IjlLmNCcU_GC",
        "outputId": "5b6db973-d87e-41f3-8af4-c819f5758c29"
      },
      "outputs": [
        {
          "data": {
            "text/plain": [
              "(1, 5)"
            ]
          },
          "execution_count": 11,
          "metadata": {},
          "output_type": "execute_result"
        }
      ],
      "source": [
        "arr2=np.array([[1,2,3,4,5]])\n",
        "arr2.shape"
      ]
    },
    {
      "cell_type": "code",
      "execution_count": null,
      "metadata": {
        "id": "4Pbd3PPfU_GC",
        "outputId": "7798c75c-489b-444e-915a-be80e3188b3a"
      },
      "outputs": [
        {
          "name": "stdout",
          "output_type": "stream",
          "text": [
            "[[1 2 3 4 5]\n",
            " [2 3 4 5 6]]\n",
            "(2, 5)\n"
          ]
        }
      ],
      "source": [
        "## 2d array\n",
        "arr2=np.array([[1,2,3,4,5],[2,3,4,5,6]])\n",
        "print(arr2)\n",
        "print(arr2.shape)"
      ]
    },
    {
      "cell_type": "code",
      "execution_count": null,
      "metadata": {
        "id": "cE4X1JNjU_GD",
        "outputId": "5d48c342-d76e-4a64-b804-b589c9950a05"
      },
      "outputs": [
        {
          "data": {
            "text/plain": [
              "array([[0],\n",
              "       [2],\n",
              "       [4],\n",
              "       [6],\n",
              "       [8]])"
            ]
          },
          "execution_count": 14,
          "metadata": {},
          "output_type": "execute_result"
        }
      ],
      "source": [
        "np.arange(0,10,2).reshape(5,1)"
      ]
    },
    {
      "cell_type": "code",
      "execution_count": null,
      "metadata": {
        "id": "vyZrkkDhU_GD",
        "outputId": "c9844908-cb18-420a-b5fb-d4751141d619"
      },
      "outputs": [
        {
          "data": {
            "text/plain": [
              "array([[1., 1., 1., 1.],\n",
              "       [1., 1., 1., 1.],\n",
              "       [1., 1., 1., 1.]])"
            ]
          },
          "execution_count": 15,
          "metadata": {},
          "output_type": "execute_result"
        }
      ],
      "source": [
        "np.ones((3,4))"
      ]
    },
    {
      "cell_type": "code",
      "execution_count": null,
      "metadata": {
        "id": "f8dAyWV4U_GE",
        "outputId": "44799181-23b3-4bb8-8058-960d0a38106b"
      },
      "outputs": [
        {
          "data": {
            "text/plain": [
              "array([[1., 0., 0.],\n",
              "       [0., 1., 0.],\n",
              "       [0., 0., 1.]])"
            ]
          },
          "execution_count": 16,
          "metadata": {},
          "output_type": "execute_result"
        }
      ],
      "source": [
        "## identity matrix\n",
        "np.eye(3)"
      ]
    },
    {
      "cell_type": "code",
      "execution_count": null,
      "metadata": {
        "id": "aCZGgha3U_GF",
        "outputId": "0098915c-5b6e-4f70-f52f-4a2d5865faf5"
      },
      "outputs": [
        {
          "name": "stdout",
          "output_type": "stream",
          "text": [
            "Array:\n",
            " [[1 2 3]\n",
            " [4 5 6]]\n",
            "Shape: (2, 3)\n",
            "Number of dimensions: 2\n",
            "Size (number of elements): 6\n",
            "Data type: int32\n",
            "Item size (in bytes): 4\n"
          ]
        }
      ],
      "source": [
        "## Attributes of Numpy Array\n",
        "arr = np.array([[1, 2, 3], [4, 5, 6]])\n",
        "\n",
        "print(\"Array:\\n\", arr)\n",
        "print(\"Shape:\", arr.shape)  # Output: (2, 3)\n",
        "print(\"Number of dimensions:\", arr.ndim)  # Output: 2\n",
        "print(\"Size (number of elements):\", arr.size)  # Output: 6\n",
        "print(\"Data type:\", arr.dtype)  # Output: int32 (may vary based on platform)\n",
        "print(\"Item size (in bytes):\", arr.itemsize)  # Output: 8 (may vary based on platform)\n"
      ]
    },
    {
      "cell_type": "code",
      "execution_count": null,
      "metadata": {
        "id": "_T9aF8JQU_GG",
        "outputId": "30d67c8b-3865-45e6-9b65-df132723887e"
      },
      "outputs": [
        {
          "name": "stdout",
          "output_type": "stream",
          "text": [
            "Addition: [11 22 33 44 55]\n",
            "Substraction: [ -9 -18 -27 -36 -45]\n",
            "Multiplication: [ 10  40  90 160 250]\n",
            "Division: [0.1 0.1 0.1 0.1 0.1]\n"
          ]
        }
      ],
      "source": [
        "### Numpy Vectorized Operation\n",
        "arr1=np.array([1,2,3,4,5])\n",
        "arr2=np.array([10,20,30,40,50])\n",
        "\n",
        "### Element Wise addition\n",
        "print(\"Addition:\", arr1+arr2)\n",
        "\n",
        "## Element Wise Substraction\n",
        "print(\"Substraction:\", arr1-arr2)\n",
        "\n",
        "# Element-wise multiplication\n",
        "print(\"Multiplication:\", arr1 * arr2)\n",
        "\n",
        "# Element-wise division\n",
        "print(\"Division:\", arr1 / arr2)"
      ]
    },
    {
      "cell_type": "code",
      "execution_count": null,
      "metadata": {
        "id": "tSPhuFNpU_GH",
        "outputId": "00e3d695-899d-47b4-943d-881f5af66048"
      },
      "outputs": [
        {
          "name": "stdout",
          "output_type": "stream",
          "text": [
            "Array : \n",
            " [[ 1  2  3  4]\n",
            " [ 5  6  7  8]\n",
            " [ 9 10 11 12]]\n"
          ]
        }
      ],
      "source": [
        "## array slicing and Indexing\n",
        "\n",
        "arr=np.array([[1,2,3,4],[5,6,7,8],[9,10,11,12]])\n",
        "print(\"Array : \\n\", arr)\n",
        "\n"
      ]
    },
    {
      "cell_type": "code",
      "execution_count": null,
      "metadata": {
        "id": "hosNT77bU_GI",
        "outputId": "efe4dca6-5089-4e33-eaa2-5f276cb8b88f"
      },
      "outputs": [
        {
          "name": "stdout",
          "output_type": "stream",
          "text": [
            "[[ 6  7]\n",
            " [10 11]]\n"
          ]
        }
      ],
      "source": [
        "print(arr[1:,1:3])"
      ]
    },
    {
      "cell_type": "code",
      "execution_count": null,
      "metadata": {
        "id": "RgSpObzaU_GK",
        "outputId": "c6780a5f-c391-499c-878b-6372010caadc"
      },
      "outputs": [
        {
          "name": "stdout",
          "output_type": "stream",
          "text": [
            "Mean: 5.5\n",
            "Median: 5.5\n",
            "Standard Deviation: 2.8722813232690143\n",
            "Variance: 8.25\n"
          ]
        }
      ],
      "source": [
        "data = np.array([1, 2, 3, 4, 5, 6, 7, 8, 9, 10])\n",
        "\n",
        "# Mean\n",
        "mean = np.mean(data)\n",
        "print(\"Mean:\", mean)\n",
        "\n",
        "# Median\n",
        "median = np.median(data)\n",
        "print(\"Median:\", median)\n",
        "\n",
        "# Standard deviation\n",
        "std_dev = np.std(data)\n",
        "print(\"Standard Deviation:\", std_dev)\n",
        "\n",
        "# Variance\n",
        "variance = np.var(data)\n",
        "print(\"Variance:\", variance)\n",
        "\n"
      ]
    }
  ],
  "metadata": {
    "kernelspec": {
      "display_name": "Python 3",
      "language": "python",
      "name": "python3"
    },
    "language_info": {
      "codemirror_mode": {
        "name": "ipython",
        "version": 3
      },
      "file_extension": ".py",
      "mimetype": "text/x-python",
      "name": "python",
      "nbconvert_exporter": "python",
      "pygments_lexer": "ipython3",
      "version": "3.12.0"
    },
    "colab": {
      "provenance": []
    }
  },
  "nbformat": 4,
  "nbformat_minor": 0
}